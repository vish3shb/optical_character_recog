{
  "cells": [
    {
      "cell_type": "code",
      "execution_count": null,
      "metadata": {
        "id": "7-o8XcWVwA80"
      },
      "outputs": [],
      "source": [
        "#IMPORTS\n",
        "import os\n",
        "import cv2\n",
        "from PIL import Image\n",
        "import skimage.io as io\n",
        "import numpy as np\n",
        "from matplotlib import pyplot as plt\n",
        "%matplotlib inline\n",
        "from skimage.filters import threshold_otsu\n",
        "from skimage.morphology import erosion, dilation\n",
        "import seaborn as sns\n",
        "from sklearn.linear_model import LogisticRegression\n",
        "from sklearn.svm import SVC\n",
        "from sklearn import svm\n",
        "from sklearn.ensemble import RandomForestClassifier\n",
        "from sklearn.model_selection import train_test_split\n",
        "from sklearn.metrics import confusion_matrix, classification_report\n",
        "from skimage.feature import hog\n",
        "from sklearn.model_selection import GridSearchCV\n",
        "from keras.models import Sequential\n",
        "from keras.layers import Conv2D, MaxPooling2D, Flatten, Dense\n",
        "from sklearn.metrics import accuracy_score, precision_score, recall_score, f1_score\n",
        "from sklearn.model_selection import train_test_split\n",
        "from PIL import Image\n",
        "from keras.utils import to_categorical\n",
        "import pandas as pd"
      ]
    },
    {
      "cell_type": "code",
      "execution_count": null,
      "metadata": {
        "colab": {
          "base_uri": "https://localhost:8080/"
        },
        "id": "RvOFUKlHrwpM",
        "outputId": "3e5a4f66-348c-4126-f634-8456330e6a36"
      },
      "outputs": [
        {
          "name": "stdout",
          "output_type": "stream",
          "text": [
            "Mounted at /content/drive\n"
          ]
        }
      ],
      "source": [
        "from google.colab import drive\n",
        "drive.mount('/content/drive', force_remount=True)"
      ]
    },
    {
      "cell_type": "markdown",
      "metadata": {
        "id": "LgCYJO0yrdlU"
      },
      "source": [
        "#Image Preprocessing"
      ]
    },
    {
      "cell_type": "markdown",
      "metadata": {
        "id": "6AW9w15CmcVt"
      },
      "source": [
        "Our first task is to split the combined images into 5 parts containing single letters. We apply image preprocessing after the split as the function parameters which we use can be different for different parts of the same image depending on the noise concentration or the contrast or the pixel intensities of that part."
      ]
    },
    {
      "cell_type": "code",
      "execution_count": null,
      "metadata": {
        "id": "B0AVh-o1mX9c"
      },
      "outputs": [],
      "source": [
        "def split(image):\n",
        "    # Get the dimensions of the image\n",
        "    width, height = image.size\n",
        "\n",
        "    # Calculate the width and height of each part\n",
        "    part_width = width // 5\n",
        "    part_height = height\n",
        "\n",
        "    image_parts = []  #image_parts list which will contain the final parts after the split\n",
        "\n",
        "    # Divide the image into parts and append to image_parts list\n",
        "\n",
        "    for i in range(5):\n",
        "        # Calculate the coordinates for cropping each part\n",
        "        left = i * part_width\n",
        "        upper = 0\n",
        "        right = left + part_width\n",
        "        lower = part_height\n",
        "\n",
        "        # Crop the part from the image\n",
        "        part = image.crop((left, upper, right, lower))\n",
        "\n",
        "        # Append the part to the list\n",
        "        image_parts.append(part)\n",
        "\n",
        "    return image_parts"
      ]
    },
    {
      "cell_type": "markdown",
      "metadata": {
        "id": "SxzRcOH6n35l"
      },
      "source": [
        "The following cell needs to be executed only once to create the samples_split folder which will contain the 5000 individual character images after the split.\n",
        "\n",
        "On observing the image name contains the letters in the image in order.\n",
        "So, after splitting we are saving the part names in the format -\n",
        "\n",
        "[ letter ][ image_name ].png\n"
      ]
    },
    {
      "cell_type": "code",
      "execution_count": null,
      "metadata": {
        "id": "lsX2R4gMmWUf"
      },
      "outputs": [],
      "source": [
        "# images_folder = \"/content/drive/MyDrive/JPMC_CaseStudy/samples1000\"\n",
        "# output_folder = \"/content/drive/MyDrive/JPMC_CaseStudy/samples_split\"\n",
        "\n",
        "# # Preprocess each image and save in new directory\n",
        "# for image_name in os.listdir(images_folder):\n",
        "#     # Construct the full path to the image\n",
        "#     image_path = os.path.join(images_folder, image_name)\n",
        "#     image = Image.open(image_path)\n",
        "#     image_parts = split(image)\n",
        "\n",
        "#     for i,part in enumerate(image_parts):\n",
        "#       part_name = os.path.basename(image_path)\n",
        "#       part_name = part_name[i]+part_name\n",
        "#       output_path = os.path.join(output_folder,part_name)\n",
        "#       part.save(output_path)"
      ]
    },
    {
      "cell_type": "markdown",
      "metadata": {
        "id": "VRAYufinj1Ey"
      },
      "source": [
        "Here we start defining the various image preprocessing functions that we have tried and tested to remove the noise and make the character more clear to improve our dataset.\n",
        "\n",
        "We are passing image object as the parameter in our functions and have to convert it to a numpy array to apply the preprocessing technique and then convert it back into an image object before returning it."
      ]
    },
    {
      "cell_type": "code",
      "execution_count": null,
      "metadata": {
        "id": "WHTco_tWEvhw"
      },
      "outputs": [],
      "source": [
        "def grayscale(image):\n",
        "    # Convert the image to grayscale: Reduces dimensionality and removes color\n",
        "    grayscale_image = image.convert('L')\n",
        "    return grayscale_image"
      ]
    },
    {
      "cell_type": "markdown",
      "metadata": {
        "id": "obDOF8r7kr2Z"
      },
      "source": [
        "MORPHOLOGICAL OPERATIONS"
      ]
    },
    {
      "cell_type": "code",
      "execution_count": null,
      "metadata": {
        "id": "kh1DVaW9Eo2i"
      },
      "outputs": [],
      "source": [
        "def erode(image):\n",
        "    # Convert image into NumPy array\n",
        "    image_array = np.array(image)\n",
        "    # Define the kernel for erosion\n",
        "    kernel = np.ones((3, 3), np.uint8)\n",
        "    # Perform image erosion\n",
        "    eroded_image = cv2.erode(image_array, kernel, iterations=3)\n",
        "    # Convert the NumPy array back to image object\n",
        "    eroded_image = Image.fromarray(eroded_image)\n",
        "    return eroded_image"
      ]
    },
    {
      "cell_type": "code",
      "execution_count": null,
      "metadata": {
        "id": "oA4gG3nyEsf6"
      },
      "outputs": [],
      "source": [
        "# DILATION : Increases the size of object. Fills holes in the object if any.\n",
        "def dilate(image):\n",
        "    image_array = np.array(image)\n",
        "    # Define the kernel for erosion\n",
        "    kernel = np.ones((3, 3), np.uint8)\n",
        "    # Perform image dilation\n",
        "    dilated_image = cv2.dilate(image_array, kernel, iterations=2)\n",
        "    dilated_image = Image.fromarray(dilated_image)\n",
        "    return dilated_image"
      ]
    },
    {
      "cell_type": "code",
      "execution_count": null,
      "metadata": {
        "id": "2FuAmGyM65dM"
      },
      "outputs": [],
      "source": [
        "def opening(image):\n",
        "    image_array = np.array(image)\n",
        "    kernel = np.ones((3, 3), np.uint8)\n",
        "    opening = cv2.morphologyEx(image_array, cv2.MORPH_OPEN, kernel, iterations=2)\n",
        "    opened = Image.fromarray(opening)\n",
        "    return opened"
      ]
    },
    {
      "cell_type": "markdown",
      "metadata": {
        "id": "nqcX72O7k2bV"
      },
      "source": [
        "Various filters we tried out to remove the noise."
      ]
    },
    {
      "cell_type": "code",
      "execution_count": null,
      "metadata": {
        "id": "5XQh5j5OUozR"
      },
      "outputs": [],
      "source": [
        "def gaussian_blur(image):\n",
        "    image_array = np.array(image)\n",
        "    # Apply Gaussian blur\n",
        "    blurred_image = cv2.GaussianBlur(image_array, (11,11), 0)\n",
        "    blurred_image = Image.fromarray(blurred_image)\n",
        "    return blurred_image"
      ]
    },
    {
      "cell_type": "code",
      "execution_count": null,
      "metadata": {
        "id": "AqlIErSwZ3oD"
      },
      "outputs": [],
      "source": [
        "def median_filter(image):\n",
        "    image_array = np.array(image)\n",
        "    # Apply median filtering\n",
        "    filtered_image = cv2.medianBlur(image_array, 9)\n",
        "    filtered_image = Image.fromarray(filtered_image)\n",
        "    return filtered_image"
      ]
    },
    {
      "cell_type": "code",
      "execution_count": null,
      "metadata": {
        "id": "oayv57oTdsiU"
      },
      "outputs": [],
      "source": [
        "def bilateral_filter(image):\n",
        "    image_array = np.array(image)\n",
        "    filtered_image = cv2.bilateralFilter(image_array, 9, 75, 75)\n",
        "    filtered_image = Image.fromarray(filtered_image)\n",
        "    return filtered_image"
      ]
    },
    {
      "cell_type": "markdown",
      "metadata": {
        "id": "5TC-whlek_bF"
      },
      "source": [
        "Different thresholds we tested to make a binary image and try to differentiate between noise and letter to make the letter more clear."
      ]
    },
    {
      "cell_type": "code",
      "execution_count": null,
      "metadata": {
        "id": "eO_qPz312Zuy"
      },
      "outputs": [],
      "source": [
        "def threshold(image):\n",
        "    image_array = np.array(image)\n",
        "    # Apply binary thresholding\n",
        "    _, thresholded_image = cv2.threshold(image_array, 200, 255, cv2.THRESH_BINARY)\n",
        "    thresholded_image = Image.fromarray(thresholded_image)\n",
        "    return thresholded_image"
      ]
    },
    {
      "cell_type": "code",
      "execution_count": null,
      "metadata": {
        "id": "XlZ_RQ1KRdmZ"
      },
      "outputs": [],
      "source": [
        "def adaptive_threshold(image):\n",
        "    image_array = np.array(image)\n",
        "    thresholded_image = cv2.adaptiveThreshold(image_array, 255, cv2.ADAPTIVE_THRESH_MEAN_C, cv2.THRESH_BINARY, 13, 2)\n",
        "    thresholded_image = Image.fromarray(thresholded_image)\n",
        "    return thresholded_image"
      ]
    },
    {
      "cell_type": "code",
      "execution_count": null,
      "metadata": {
        "id": "eddMpLB-t_NG"
      },
      "outputs": [],
      "source": [
        "def otsu_threshold(image):\n",
        "    image_array = np.array(image)\n",
        "    _, otsu_thresholded_image = cv2.threshold(image_array, 0, 255, cv2.THRESH_BINARY + cv2.THRESH_OTSU)\n",
        "    otsu_thresholded_image = Image.fromarray(otsu_thresholded_image)\n",
        "    return otsu_thresholded_image"
      ]
    },
    {
      "cell_type": "markdown",
      "metadata": {
        "id": "yidW0YjVlKtD"
      },
      "source": [
        "Other preprocessing techniques we tested to improve the quality of our dataset."
      ]
    },
    {
      "cell_type": "code",
      "execution_count": null,
      "metadata": {
        "id": "mayb3OsIg0_7"
      },
      "outputs": [],
      "source": [
        "def denoise(image):\n",
        "    image_array = np.array(image)\n",
        "    # Apply fast NlMeans Denoising\n",
        "    denoised_array = cv2.fastNlMeansDenoising(image_array, None, 10, 10, 7)\n",
        "    denoised_image = Image.fromarray(denoised_array)\n",
        "    return denoised_image"
      ]
    },
    {
      "cell_type": "code",
      "execution_count": null,
      "metadata": {
        "id": "Y27q5rmoMm6J"
      },
      "outputs": [],
      "source": [
        "def histogram_equalization(image):\n",
        "    image_array = np.array(image)\n",
        "    # Apply histogram equalization\n",
        "    equalized_image = cv2.equalizeHist(image_array)\n",
        "    equalized_image = Image.fromarray(equalized_image)\n",
        "    return equalized_image"
      ]
    },
    {
      "cell_type": "code",
      "execution_count": null,
      "metadata": {
        "id": "kyNHEG8iPnRt"
      },
      "outputs": [],
      "source": [
        "def resize(image):\n",
        "    image_array = np.array(image)\n",
        "    # Apply histogram equalization\n",
        "    resized_array = cv2.resize(image_array, (64, 128), interpolation=cv2.INTER_AREA)\n",
        "    resized_image = Image.fromarray(resized_array)\n",
        "    return resized_image"
      ]
    },
    {
      "cell_type": "code",
      "execution_count": null,
      "metadata": {
        "id": "ZEykC0WZE0O6"
      },
      "outputs": [],
      "source": [
        "def deskew(image):\n",
        "    # Convert image to grayscale\n",
        "    image_gray = image\n",
        "    image_array = np.array(image_gray)\n",
        "    # Apply thresholding to create binary image\n",
        "    _, thresholded_image = cv2.threshold(image_array, 0, 255, cv2.THRESH_BINARY_INV + cv2.THRESH_OTSU)\n",
        "    # Find contours in the binary image\n",
        "    contours, _ = cv2.findContours(thresholded_image, cv2.RETR_EXTERNAL, cv2.CHAIN_APPROX_SIMPLE)\n",
        "    # Sort contours by their area in descending order\n",
        "    contours = sorted(contours, key=cv2.contourArea, reverse=True)[:5]\n",
        "    # Deskew each contour\n",
        "    deskewed_images = []\n",
        "    for contour in contours:\n",
        "        # Find the minimum area rectangle enclosing the contour\n",
        "        rect = cv2.minAreaRect(contour)\n",
        "        # Calculate the angle of rotation\n",
        "        angle = rect[2]\n",
        "        # Rotate the image to deskew it\n",
        "        rotated_image = Image.fromarray(image_array)\n",
        "        rotated_image = rotated_image.rotate(-angle)\n",
        "        deskewed_images.append(np.array(rotated_image))\n",
        "    return deskewed_images"
      ]
    },
    {
      "cell_type": "markdown",
      "metadata": {
        "id": "ID6hVwSpl5nt"
      },
      "source": [
        "Here we have implemented our final preprocessing function after trying out many many combinations. We found that this preprocessing pipeline gives the best accuracy by maintaining the quality of the character and also removing majority of the noise."
      ]
    },
    {
      "cell_type": "code",
      "execution_count": null,
      "metadata": {
        "colab": {
          "base_uri": "https://localhost:8080/",
          "height": 407
        },
        "id": "oZrsYKJiE3mi",
        "outputId": "ff4b6164-dbec-4f42-ba64-36a59d529017"
      },
      "outputs": [
        {
          "data": {
            "image/png": "[encoded data removed]",
            "text/plain": [
              "<Figure size 100x400 with 2 Axes>"
            ]
          },
          "metadata": {},
          "output_type": "display_data"
        }
      ],
      "source": [
        "def preprocess(img):\n",
        "    img = resize(img)\n",
        "    img = grayscale(img)\n",
        "    img = histogram_equalization(img)\n",
        "    img = dilate(img)\n",
        "    img = denoise(img)\n",
        "    img = median_filter(img)\n",
        "    return img\n",
        "\n",
        "image_path = \"/content/drive/MyDrive/JPMC_CaseStudy/samples_split/pfaqep.png\"   # Sample image\n",
        "image = Image.open(image_path)\n",
        "preprocessed_image = preprocess(image)\n",
        "\n",
        "# Plot the original and the binary image\n",
        "fig, (ax1, ax2) = plt.subplots(2, 1, figsize=(1, 4))\n",
        "ax1.imshow(image, 'gray', aspect='auto')\n",
        "ax1.set_title('Original image')\n",
        "ax1.set_xticks([])\n",
        "ax1.set_yticks([])\n",
        "ax2.imshow(preprocessed_image, 'gray', aspect='auto')\n",
        "ax2.set_title('Preprocessed image')\n",
        "ax2.set_xticks([])\n",
        "ax2.set_yticks([])\n",
        "plt.tight_layout()\n",
        "plt.show()"
      ]
    },
    {
      "cell_type": "markdown",
      "metadata": {
        "id": "3dbZESZ5pwdR"
      },
      "source": [
        "#MACHINE LEARNING\n",
        "\n",
        "Now, we begin the Machine Learning part.\n",
        "\n",
        "We have created functions to extract features, load our images and then prepare a features dataset for all the images."
      ]
    },
    {
      "cell_type": "code",
      "execution_count": null,
      "metadata": {
        "id": "Xjh6CGuDEL0b"
      },
      "outputs": [],
      "source": [
        "def extract_features(image):\n",
        "    # Extract HOG features\n",
        "    features = hog(image, orientations=9, pixels_per_cell=(8, 8), cells_per_block=(1, 1))\n",
        "    return features"
      ]
    },
    {
      "cell_type": "code",
      "execution_count": null,
      "metadata": {
        "id": "9PZUBvaFER4T"
      },
      "outputs": [],
      "source": [
        "def load_images(folder_path):\n",
        "    images = []\n",
        "    labels = []\n",
        "    number = [0]*26\n",
        "    for part_name in os.listdir(folder_path):\n",
        "        image_path = os.path.join(folder_path, part_name)\n",
        "        image = Image.open(image_path)\n",
        "        part_name = os.path.basename(image_path)\n",
        "        number[ord(part_name[0])-ord('a')]+=1\n",
        "        image = preprocess(image)\n",
        "        images.append(image)\n",
        "\n",
        "        labels.append(part_name[0])  # Part name format is [label][part_name].png\n",
        "    return images, labels, number"
      ]
    },
    {
      "cell_type": "code",
      "execution_count": null,
      "metadata": {
        "id": "dLRrSfyVRy7j"
      },
      "outputs": [],
      "source": [
        "def prepare_data(images, labels):\n",
        "    features = []\n",
        "\n",
        "    for image in images:\n",
        "        features.append(extract_features(image))\n",
        "\n",
        "    X = np.array(features,dtype=object)\n",
        "    y = np.array(labels)\n",
        "\n",
        "    return X, y"
      ]
    },
    {
      "cell_type": "code",
      "execution_count": null,
      "metadata": {
        "colab": {
          "background_save": true
        },
        "id": "dKC48GViryjF"
      },
      "outputs": [],
      "source": [
        "# Load and prepare the data\n",
        "folder_path = \"/content/drive/MyDrive/JPMC_CaseStudy/samples_split\"\n",
        "\n",
        "images, labels, number = load_images(folder_path)\n",
        "X, y = prepare_data(images, labels)\n",
        "\n",
        "# Split the data into train and test sets\n",
        "X_train, X_test, y_train, y_test = train_test_split(X, y, test_size=0.2, random_state=80)"
      ]
    },
    {
      "cell_type": "code",
      "execution_count": null,
      "metadata": {
        "colab": {
          "background_save": true
        },
        "id": "fbPY-YZxBKvg",
        "outputId": "54079856-3d6f-40f0-8310-2efdc670559f"
      },
      "outputs": [
        {
          "name": "stdout",
          "output_type": "stream",
          "text": [
            "[190, 181, 190, 170, 177, 180, 168, 160, 170, 190, 167, 189, 194, 185, 176, 173, 168, 163, 195, 168, 178, 166, 174, 190, 186, 199]\n"
          ]
        }
      ],
      "source": [
        "print(number)"
      ]
    },
    {
      "cell_type": "code",
      "execution_count": null,
      "metadata": {
        "colab": {
          "background_save": true
        },
        "id": "H-QP3uffZ2gD",
        "outputId": "3d8c9de1-e264-4200-d7c2-e2ddf480e4af"
      },
      "outputs": [
        {
          "data": {
            "text/plain": [
              "<Axes: ylabel='count'>"
            ]
          },
          "execution_count": 28,
          "metadata": {},
          "output_type": "execute_result"
        },
        {
          "data": {
            "image/png": "[encoded data removed]",
            "text/plain": [
              "<Figure size 640x480 with 1 Axes>"
            ]
          },
          "metadata": {},
          "output_type": "display_data"
        }
      ],
      "source": [
        "class_labels = ['a', 'b', 'c', 'd', 'e', 'f', 'g', 'h', 'i', 'j', 'k', 'l', 'm', 'n', 'o', 'p', 'q', 'r', 's', 't', 'u', 'v', 'w', 'x', 'y', 'z']\n",
        "sns.countplot(x=labels, order=class_labels)"
      ]
    },
    {
      "cell_type": "markdown",
      "metadata": {
        "id": "8GZjz7JAr6vR"
      },
      "source": [
        "Now we implement basic forms of the three specified classifiers - Logistic Regression, Support Vector Machine, Random Forest."
      ]
    },
    {
      "cell_type": "code",
      "execution_count": null,
      "metadata": {
        "colab": {
          "background_save": true
        },
        "id": "IH4BtyjUR3V0",
        "outputId": "e2ae215c-6737-4899-a6cb-30f21b6546d7"
      },
      "outputs": [
        {
          "name": "stderr",
          "output_type": "stream",
          "text": [
            "/usr/local/lib/python3.10/dist-packages/sklearn/linear_model/_logistic.py:458: ConvergenceWarning: lbfgs failed to converge (status=1):\n",
            "STOP: TOTAL NO. of ITERATIONS REACHED LIMIT.\n",
            "\n",
            "Increase the number of iterations (max_iter) or scale the data as shown in:\n",
            "    https://scikit-learn.org/stable/modules/preprocessing.html\n",
            "Please also refer to the documentation for alternative solver options:\n",
            "    https://scikit-learn.org/stable/modules/linear_model.html#logistic-regression\n",
            "  n_iter_i = _check_optimize_result(\n"
          ]
        },
        {
          "name": "stdout",
          "output_type": "stream",
          "text": [
            "LR Accuracy: 74.6236559139785\n",
            "LR Precision: 0.7462365591397849\n",
            "LR Recall: 0.7462365591397849\n",
            "LR F1 score: 0.7462365591397849\n",
            "SVM Accuracy: 77.52688172043011\n",
            "SVM Precision: 0.7752688172043011\n",
            "SVM Recall: 0.7752688172043011\n",
            "SVM F1 score: 0.7752688172043011\n",
            "RF Accuracy: 72.90322580645162\n",
            "RF Precision: 0.7290322580645161\n",
            "RF Recall: 0.7290322580645161\n",
            "RF F1 score: 0.7290322580645161\n"
          ]
        }
      ],
      "source": [
        "# Create and train the Logistic Regression classifier\n",
        "lrclf = LogisticRegression()\n",
        "lrclf.fit(X_train, y_train)\n",
        "y_pred = lrclf.predict(X_test)\n",
        "\n",
        "# Evaluate the Logistic Regression classifier\n",
        "lraccuracy = lrclf.score(X_test, y_test)\n",
        "print(\"LR Accuracy:\", 100*lraccuracy)\n",
        "precision = precision_score(y_test, y_pred, average='micro')\n",
        "print(\"LR Precision:\", precision)\n",
        "recall = recall_score(y_test, y_pred, average='micro')\n",
        "print(\"LR Recall:\", recall)\n",
        "f1 = f1_score(y_test, y_pred, average='micro')\n",
        "print(\"LR F1 score:\", f1)\n",
        "\n",
        "\n",
        "# Create and train the SVM classifier\n",
        "svmclf = SVC(kernel='linear')\n",
        "svmclf.fit(X_train, y_train)\n",
        "y_pred = svmclf.predict(X_test)\n",
        "# Evaluate the SVM classifier\n",
        "svmaccuracy = svmclf.score(X_test, y_test)\n",
        "print(\"SVM Accuracy:\", 100*svmaccuracy)\n",
        "precision = precision_score(y_test, y_pred, average='micro')\n",
        "print(\"SVM Precision:\", precision)\n",
        "recall = recall_score(y_test, y_pred, average='micro')\n",
        "print(\"SVM Recall:\", recall)\n",
        "f1 = f1_score(y_test, y_pred, average='micro')\n",
        "print(\"SVM F1 score:\", f1)\n",
        "\n",
        "# Create and train the Random Forest classifier\n",
        "rfclf = RandomForestClassifier(n_estimators=100)\n",
        "rfclf.fit(X_train, y_train)\n",
        "y_pred = rfclf.predict(X_test)\n",
        "# Evaluate the Random Forest classifier\n",
        "rfaccuracy = rfclf.score(X_test, y_test)\n",
        "print(\"RF Accuracy:\", 100*rfaccuracy)\n",
        "precision = precision_score(y_test, y_pred, average='micro')\n",
        "print(\"RF Precision:\", precision)\n",
        "recall = recall_score(y_test, y_pred, average='micro')\n",
        "print(\"RF Recall:\", recall)\n",
        "f1 = f1_score(y_test, y_pred, average='micro')\n",
        "print(\"RF F1 score:\", f1)"
      ]
    },
    {
      "cell_type": "markdown",
      "metadata": {
        "id": "Sfw5sy9isJdF"
      },
      "source": [
        "As we find that SVM is the best classifier among the three. We now implement GridSearchCV to find the best hyperparameter combination to maximise accuracy."
      ]
    },
    {
      "cell_type": "code",
      "execution_count": null,
      "metadata": {
        "id": "LIatLlijXKF1"
      },
      "outputs": [],
      "source": [
        "# Create an SVM classifier\n",
        "svm_classifier = svm.SVC()\n",
        "\n",
        "# Define the hyperparameters to tune and their possible values\n",
        "param_grid = {\n",
        "    'C': [0.1, 1, 10],\n",
        "    'degree': [2, 3, 4],\n",
        "    'coef0': [0.0, 0.5, 1.0]\n",
        "}\n",
        "\n",
        "# Perform grid search cross-validation\n",
        "grid_search = GridSearchCV(svm_classifier, param_grid, cv=5)\n",
        "grid_search.fit(X_train, y_train)\n",
        "\n",
        "# Retrieve the best hyperparameters\n",
        "best_params = grid_search.best_params_\n",
        "\n",
        "# Train the SVM with the best hyperparameters\n",
        "best_svm = svm.SVC(**best_params)\n",
        "best_svm.fit(X_train, y_train)\n",
        "\n",
        "accuracy = best_svm.score(X_test, y_test)\n",
        "print(accuracy)"
      ]
    },
    {
      "cell_type": "markdown",
      "metadata": {
        "id": "x94jr6lEtXqZ"
      },
      "source": []
    },
    {
      "cell_type": "code",
      "execution_count": null,
      "metadata": {
        "id": "SNY9dIMrsw6z"
      },
      "outputs": [],
      "source": [
        "svmclf = SVC(kernel='poly', C=10, degree=2, coef0=0.0)\n",
        "svmclf.fit(X_train, y_train)\n",
        "svmaccuracy = svmclf.score(X_test, y_test)\n",
        "print(\"svmAccuracy:\", 100*svmaccuracy)"
      ]
    },
    {
      "cell_type": "code",
      "execution_count": null,
      "metadata": {
        "id": "_S_6Mt5SvD9w"
      },
      "outputs": [],
      "source": [
        "y_pred = svmclf.predict(X_test)\n",
        "print(classification_report(y_test, y_pred))"
      ]
    },
    {
      "cell_type": "code",
      "execution_count": null,
      "metadata": {
        "id": "Upte9SZiLaMU"
      },
      "outputs": [],
      "source": [
        "# Generate confusion matrix\n",
        "cm = confusion_matrix(y_test, y_pred)\n",
        "\n",
        "# Define class labels\n",
        "class_labels = ['a', 'b', 'c', 'd', 'e', 'f', 'g', 'h', 'i', 'j', 'k', 'l', 'm', 'n', 'o', 'p', 'q', 'r', 's', 't', 'u', 'v', 'w', 'x', 'y', 'z']\n",
        "\n",
        "# Create a heatmap using seaborn\n",
        "sns.heatmap(cm, annot=True, cmap='Blues', xticklabels=class_labels, yticklabels=class_labels)\n",
        "\n",
        "# Add labels and title\n",
        "plt.xlabel('Predicted Labels')\n",
        "plt.ylabel('True Labels')\n",
        "plt.title('Confusion Matrix')\n",
        "\n",
        "# Display the plot\n",
        "plt.show()\n",
        "\n",
        "# Print accuracies for each label\n",
        "accuracies = np.diag(cm) / cm.sum(axis=1)\n",
        "for i, accuracy in enumerate(accuracies):\n",
        "    print(f\"{class_labels[i]}: {accuracy:.2f}\")"
      ]
    },
    {
      "cell_type": "markdown",
      "metadata": {
        "id": "kluIEIhLZekd"
      },
      "source": [
        "\n",
        "Support Vector Machine (SVM) classifier yields the best accuracy on the validation set.\n",
        "Accuracy is the best metric to compare the algorithms as our data is almost balanced on the classes (alphabets).\n",
        "Other metrics such as precision, recall and F1 score are used for different data sets which may be imbalanced."
      ]
    },
    {
      "cell_type": "markdown",
      "metadata": {
        "id": "KpUJ8HTcZf6q"
      },
      "source": [
        "\n",
        "I ran a GridSearchCV on the model by making a standard parameter grid. We get the best ones among that from there and we tried to tweak them manually after that by changing values at intervals and found that it is the best possible combination.\n",
        "\n",
        "C determines the penalty for misclassifications made by the SVM during training. A smaller value of C allows for a larger margin, potentially resulting in a simpler decision boundary but with the risk of misclassifying some training examples. On the other hand, a larger value of C puts a higher penalty on misclassifications, leading to a smaller margin and potentially a more complex decision boundary.\n",
        "\n",
        "In the model increasing the value of C after 9-10 didnt have much of an effect on our accurracy as it becomes a high enough penalty on the misclassifications. Low values of C drastically reduced the accuracy.\n",
        "\n",
        "The degree parameter controls the flexibility or complexity of the decision boundary. It determines the degree of the polynomial used in the kernel function. A higher degree allows the SVM to capture more complex relationships between the data points, potentially leading to a more flexible decision boundary that can fit the training data more closely. However, using a very high degree can also increase the risk of overfitting, where the model may not generalize well to unseen data.\n",
        "\n",
        "When using a linear kernel, the SVM learns a linear decision boundary represented by a hyperplane. The coef_ attribute returns the coefficients of this hyperplane. These coefficients indicate the importance or weight assigned to each feature in the decision-making process."
      ]
    },
    {
      "cell_type": "markdown",
      "metadata": {
        "id": "hcWU-uKI0cd0"
      },
      "source": [
        "\n",
        "h is at times getting confused and read b.\n",
        "Similarly x is predicted as either f or I.\n",
        "t is at times predicted as c, f and l.\n",
        "v is incorrectly predicted as f.\n",
        "d is incorrectly predicted as a."
      ]
    },
    {
      "cell_type": "markdown",
      "metadata": {
        "id": "JT37g_08yYKP"
      },
      "source": [
        "#Another approach : CNN"
      ]
    },
    {
      "cell_type": "code",
      "execution_count": null,
      "metadata": {
        "id": "aHIK7k6-xW06"
      },
      "outputs": [],
      "source": [
        "# Another alternate algortithm: CNN\n",
        "\n",
        "# Loading images\n",
        "def load_images(folder_path):\n",
        "    images = []\n",
        "    labels = []\n",
        "\n",
        "    for filename in os.listdir(folder_path):\n",
        "        if filename.endswith('.png'):\n",
        "            image_path = os.path.join(folder_path, filename)\n",
        "            label = ord(filename[0]) - ord('a')  # Convert alphabet label to number\n",
        "\n",
        "            image = Image.open(image_path)\n",
        "            image = preprocess(image)\n",
        "            images.append(image)\n",
        "            labels.append(label)\n",
        "\n",
        "    images = np.array(images)\n",
        "    labels = np.array(labels)\n",
        "\n",
        "    return images, labels"
      ]
    },
    {
      "cell_type": "code",
      "execution_count": null,
      "metadata": {
        "id": "aOT_Aw6iyVEv"
      },
      "outputs": [],
      "source": [
        "\n",
        "# Specify the folder path containing the images\n",
        "folder_path = '/content/drive/MyDrive/JPMC_Case_Study/samples_1000/samples_split/'\n",
        "\n",
        "# Load the images and labels\n",
        "X, y = load_images(folder_path)\n",
        "\n",
        "# Split the data into training and testing sets\n",
        "X_train, X_test, y_train, y_test = train_test_split(X, y, test_size=0.2, random_state=742)\n",
        "\n",
        "# Normalize the pixel values to the range [0, 1]\n",
        "X_train = X_train.astype('float32') / 255.0\n",
        "X_test = X_test.astype('float32') / 255.0\n",
        "\n",
        "# Convert the labels to one-hot encoded vectors\n",
        "num_classes = len(np.unique(y))\n",
        "y_train = to_categorical(y_train, num_classes)\n",
        "y_test = to_categorical(y_test, num_classes)\n",
        "\n",
        "# Define the CNN model\n",
        "model = Sequential()\n",
        "model.add(Conv2D(32, (3, 3), activation='relu', input_shape=(256, 128, 1)))\n",
        "model.add(MaxPooling2D((2, 2)))\n",
        "model.add(Conv2D(64, (3, 3), activation='relu'))\n",
        "model.add(MaxPooling2D((2, 2)))\n",
        "model.add(Flatten())\n",
        "model.add(Dense(64, activation='relu'))\n",
        "model.add(Dense(num_classes, activation='softmax'))\n",
        "\n",
        "# Compile the model\n",
        "model.compile(optimizer='adam', loss='categorical_crossentropy', metrics=['accuracy'])\n",
        "\n",
        "# Train the model\n",
        "model.fit(X_train, y_train, epochs=10, batch_size=32, validation_data=(X_test, y_test))\n",
        "\n",
        "# Evaluate the model on the test data\n",
        "loss, accuracy = model.evaluate(X_test, y_test)\n",
        "print(\"Accuracy:\", accuracy)"
      ]
    }
  ],
  "metadata": {
    "accelerator": "GPU",
    "colab": {
      "provenance": []
    },
    "kernelspec": {
      "display_name": "Python 3",
      "name": "python3"
    },
    "language_info": {
      "name": "python"
    }
  },
  "nbformat": 4,
  "nbformat_minor": 0
}
